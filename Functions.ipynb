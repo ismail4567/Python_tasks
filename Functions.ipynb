{
  "nbformat": 4,
  "nbformat_minor": 0,
  "metadata": {
    "colab": {
      "provenance": []
    },
    "kernelspec": {
      "name": "python3",
      "display_name": "Python 3"
    },
    "language_info": {
      "name": "python"
    }
  },
  "cells": [
    {
      "cell_type": "markdown",
      "source": [
        "### **Exercise 1: Create a function with a default argument**\n",
        "Write a program to create a function show_employee() using the following conditions.\n",
        "It should accept the employee’s name and salary and display both.\n",
        "If the salary is missing in the function call then assign default value 9000 to salary\n",
        "\n",
        "**Given:**\n",
        "\n",
        "showEmployee(\"Ben\", 12000)\n",
        "\n",
        "showEmployee(\"Jessa\")\n",
        "\n",
        "**Expected output:**\n",
        "\n",
        "Name: Ben salary: 12000\n",
        "\n",
        "Name: Jessa salary: 9000\n"
      ],
      "metadata": {
        "id": "8a2BiuvFZqdl"
      }
    },
    {
      "cell_type": "code",
      "source": [
        "def show_employee(name,salary = 9000):\n",
        "  print(f\"Name: {name} Salary: {salary} \")\n",
        "\n",
        "show_employee(\"Ben\",12000)\n",
        "show_employee(\"Jessa\")"
      ],
      "metadata": {
        "colab": {
          "base_uri": "https://localhost:8080/"
        },
        "id": "YdgjfX51aHHC",
        "outputId": "295a6697-2c8f-41c4-cba4-dc5823a4416c"
      },
      "execution_count": null,
      "outputs": [
        {
          "output_type": "stream",
          "name": "stdout",
          "text": [
            "Name: Ben Salary: 12000 \n",
            "Name: Jessa Salary: 9000 \n"
          ]
        }
      ]
    },
    {
      "cell_type": "markdown",
      "source": [
        "## **Exercise 2: Create an inner function to calculate the addition in the following way**\n",
        "*  Create an outer function that will accept two parameters, a and b\n",
        "*   Create an inner function inside an outer function that will calculate the addition of a and b\n",
        "*  At last, an outer function will add 5 into addition and return it\n",
        "\n",
        "\n",
        "\n",
        "\n"
      ],
      "metadata": {
        "id": "10JzxvwCbt4I"
      }
    },
    {
      "cell_type": "code",
      "source": [
        "def outer_function(a,b):\n",
        "  def inner_function(a,b):\n",
        "    return(a+b)\n",
        "\n",
        "  addition = inner_function(a,b)\n",
        "  final_result = addition+5\n",
        "  return final_result\n",
        "\n",
        "outer_function(5,2)"
      ],
      "metadata": {
        "colab": {
          "base_uri": "https://localhost:8080/"
        },
        "id": "IAav34CDciLg",
        "outputId": "7f4d85ef-8bb8-499a-805b-b9b31d32bd23"
      },
      "execution_count": null,
      "outputs": [
        {
          "output_type": "execute_result",
          "data": {
            "text/plain": [
              "12"
            ]
          },
          "metadata": {},
          "execution_count": 12
        }
      ]
    },
    {
      "cell_type": "markdown",
      "source": [
        "### **Exercise 3: Generate a Python list of all the even numbers between 4 to 30**"
      ],
      "metadata": {
        "id": "aQTuz71Sfnhn"
      }
    },
    {
      "cell_type": "code",
      "source": [
        "even=[]\n",
        "for i in range(4,32,2):\n",
        " even.append(i)\n",
        "print(even)"
      ],
      "metadata": {
        "colab": {
          "base_uri": "https://localhost:8080/"
        },
        "id": "emT2J8jKf0Tl",
        "outputId": "0364a91e-b7f1-4948-bfa6-c2211aaa5e89"
      },
      "execution_count": null,
      "outputs": [
        {
          "output_type": "stream",
          "name": "stdout",
          "text": [
            "[4, 6, 8, 10, 12, 14, 16, 18, 20, 22, 24, 26, 28, 30]\n"
          ]
        }
      ]
    },
    {
      "cell_type": "markdown",
      "source": [
        "### **Exercise 4: Lambda Function to Check if value is in a List**\n",
        "Given a list, the task is to write a Python program to check if the value exists in the list or not using the lambda function.\n",
        "\n",
        "\n",
        "Input  : L = [1, 2, 3, 4, 5]\n",
        "          \n",
        "         element = 4\n",
        "Output :  Element is Present in the list\n",
        "\n",
        "Input :  L = [1, 2, 3, 4, 5]\n",
        "          \n",
        "          element = 8\n",
        "Output :  Element is NOT Present in the list\n",
        "\n",
        "\n"
      ],
      "metadata": {
        "id": "PdxF5vmCiOnh"
      }
    },
    {
      "cell_type": "code",
      "source": [
        "check_element = lambda L, element: \"Element is present in the list\" if any(filter(lambda x: x == element, L)) else \"Element is not present in the list\"\n",
        "\n",
        "L1 = [1, 2, 3, 4, 5]\n",
        "element1 = 4\n",
        "output1 = check_element(L1, element1)\n",
        "print(output1)\n",
        "\n",
        "L2 = [1, 2, 3, 4, 5]\n",
        "element2 = 8\n",
        "output2 = check_element(L2, element2)\n",
        "print(output2)\n"
      ],
      "metadata": {
        "colab": {
          "base_uri": "https://localhost:8080/"
        },
        "id": "I5CdmdF9mSUN",
        "outputId": "3facd20f-bf6f-4002-a3cf-3ddd32d30b0a"
      },
      "execution_count": null,
      "outputs": [
        {
          "output_type": "stream",
          "name": "stdout",
          "text": [
            "Element is present in the list\n",
            "Element is not present in the list\n"
          ]
        }
      ]
    },
    {
      "cell_type": "markdown",
      "source": [
        "### **Exercise 5: Sort list of tuples with their sum**\n",
        "Sort the points based on their sum of elements in the tuples\n",
        "\n",
        "points = [(1, 2), (5, 3), (0, 7), (3, 1)]\n"
      ],
      "metadata": {
        "id": "6nGnu_zJoemC"
      }
    },
    {
      "cell_type": "code",
      "source": [
        "points = [(1, 2), (5, 3), (0, 7), (3, 1)]\n",
        "\n",
        "sum_of_elements = lambda point : sum(point)\n",
        "\n",
        "sorted_points = sorted(points, key=sum_of_elements)\n",
        "\n",
        "print(\"Sorted points: \",sorted_points)"
      ],
      "metadata": {
        "colab": {
          "base_uri": "https://localhost:8080/"
        },
        "id": "3VUZxvHYolVm",
        "outputId": "82a49c05-e75b-4fa8-ad36-b180b5029c7c"
      },
      "execution_count": null,
      "outputs": [
        {
          "output_type": "stream",
          "name": "stdout",
          "text": [
            "Sorted points:  [(1, 2), (3, 1), (0, 7), (5, 3)]\n"
          ]
        }
      ]
    },
    {
      "cell_type": "markdown",
      "source": [
        "### **Exercise 6 :**\n",
        "Write a python function, which will find all such numbers between 1000 and 3000 (both included) such that each digit of the number is an even number. Return the results as a list\n"
      ],
      "metadata": {
        "id": "f66AcfGVpfm3"
      }
    },
    {
      "cell_type": "code",
      "source": [
        "def find_even_numbers():\n",
        "    result = []\n",
        "    for i in range(1000, 3001):\n",
        "        digits = all(int(digit) % 2 == 0 for digit in str(i))\n",
        "        if digits:\n",
        "            result.append(i)\n",
        "    return result\n",
        "even = find_even_numbers()\n",
        "print(even)"
      ],
      "metadata": {
        "colab": {
          "base_uri": "https://localhost:8080/"
        },
        "id": "MfSj3gP8pueU",
        "outputId": "8d755946-d972-4b73-c24e-b879e431776f"
      },
      "execution_count": null,
      "outputs": [
        {
          "output_type": "stream",
          "name": "stdout",
          "text": [
            "[2000, 2002, 2004, 2006, 2008, 2020, 2022, 2024, 2026, 2028, 2040, 2042, 2044, 2046, 2048, 2060, 2062, 2064, 2066, 2068, 2080, 2082, 2084, 2086, 2088, 2200, 2202, 2204, 2206, 2208, 2220, 2222, 2224, 2226, 2228, 2240, 2242, 2244, 2246, 2248, 2260, 2262, 2264, 2266, 2268, 2280, 2282, 2284, 2286, 2288, 2400, 2402, 2404, 2406, 2408, 2420, 2422, 2424, 2426, 2428, 2440, 2442, 2444, 2446, 2448, 2460, 2462, 2464, 2466, 2468, 2480, 2482, 2484, 2486, 2488, 2600, 2602, 2604, 2606, 2608, 2620, 2622, 2624, 2626, 2628, 2640, 2642, 2644, 2646, 2648, 2660, 2662, 2664, 2666, 2668, 2680, 2682, 2684, 2686, 2688, 2800, 2802, 2804, 2806, 2808, 2820, 2822, 2824, 2826, 2828, 2840, 2842, 2844, 2846, 2848, 2860, 2862, 2864, 2866, 2868, 2880, 2882, 2884, 2886, 2888]\n"
          ]
        }
      ]
    },
    {
      "cell_type": "markdown",
      "source": [
        "### **Exercise 7 :**\n",
        "Write a python function that accepts a sentence and calculate and return the number of letters and digits.\n",
        "\n",
        "Suppose the following input is supplied to the program:\n",
        "\n",
        "hello world! 123\n",
        "\n",
        "Then, the output should be:\n",
        "\n",
        "LETTERS 10\n",
        "\n",
        "DIGITS 3\n"
      ],
      "metadata": {
        "id": "Vnb39yKR7xiO"
      }
    },
    {
      "cell_type": "code",
      "source": [
        "def count_letter_and_digits(sentence):\n",
        "  letter_count = 0\n",
        "  digit_count = 0\n",
        "\n",
        "  for char in sentence:\n",
        "\n",
        "    if char.isalpha():\n",
        "      letter_count += 1\n",
        "    elif char.isdigit():\n",
        "      digit_count += 1\n",
        "\n",
        "  return letter_count, digit_count\n",
        "\n",
        "input_sentence = \"hello world! 123\"\n",
        "letter, digits = count_letter_and_digits(input_sentence)\n",
        "print(\"Letters: \",letter)\n",
        "print(\"Digits: \",digits)"
      ],
      "metadata": {
        "colab": {
          "base_uri": "https://localhost:8080/"
        },
        "id": "YW-qB_tuxSpn",
        "outputId": "abf59850-1edd-4f98-8cca-529461661726"
      },
      "execution_count": null,
      "outputs": [
        {
          "output_type": "stream",
          "name": "stdout",
          "text": [
            "Letters:  10\n",
            "Digits:  3\n"
          ]
        }
      ]
    },
    {
      "cell_type": "markdown",
      "source": [
        "### **Exercise 8  MAP:**\n",
        "Write a Python program to convert all the characters into uppercase and lowercase and eliminate duplicate letters from a given sequence. Use the map() function\n"
      ],
      "metadata": {
        "id": "3lpDBg6mxeec"
      }
    },
    {
      "cell_type": "code",
      "source": [
        "def upper_lower_duplicate(sequence):\n",
        "  upper_sequence = ''.join(map(str.upper,sequence))\n",
        "  lower_sequence = ''.join(map(str.lower,sequence))\n",
        "  duplicate = ''.join(set(sequence))\n",
        "\n",
        "  return upper_sequence,lower_sequence,duplicate\n",
        "\n",
        "sentence = \"Mohammed ISmail Cn\"\n",
        "upper,lower,duplicate = upper_lower_duplicate(sentence)\n",
        "print(\"Uppercase: \",upper)\n",
        "print(\"Lowercase: \",lower)\n",
        "print(\"Duplicate: \",duplicate)"
      ],
      "metadata": {
        "colab": {
          "base_uri": "https://localhost:8080/"
        },
        "id": "cIiKz6HBxr4T",
        "outputId": "e9b3ad91-289f-4ac9-d74a-991583080806"
      },
      "execution_count": null,
      "outputs": [
        {
          "output_type": "stream",
          "name": "stdout",
          "text": [
            "Uppercase:  MOHAMMED ISMAIL CN\n",
            "Lowercase:  mohammed ismail cn\n",
            "Duplicate:  MCIoehid lmanS\n"
          ]
        }
      ]
    },
    {
      "cell_type": "markdown",
      "source": [
        "## **Exercise 9 MAP:**\n",
        " Write a Python program to element wise add two given lists and find the difference between them. Use the map() function\n"
      ],
      "metadata": {
        "id": "neNmAhuQyIgL"
      }
    },
    {
      "cell_type": "code",
      "source": [
        "list1 = [1,2,3,4,5]\n",
        "list2 = [6,7,8,9,0]\n",
        "sum = map(lambda a,b : a+b, list1,list2)\n",
        "sub = map(lambda a,b : b-a, list1,list2)\n",
        "print(list(sum))\n",
        "print(list(sub))"
      ],
      "metadata": {
        "colab": {
          "base_uri": "https://localhost:8080/"
        },
        "id": "dKzpZPYGyO2Z",
        "outputId": "c95620f7-9e71-4954-d9dd-55d49d10bdb6"
      },
      "execution_count": null,
      "outputs": [
        {
          "output_type": "stream",
          "name": "stdout",
          "text": [
            "[7, 9, 11, 13, 5]\n",
            "[5, 5, 5, 5, -5]\n"
          ]
        }
      ]
    },
    {
      "cell_type": "markdown",
      "source": [
        "### **Exercise 10 Filter:**\n",
        "Write a Python program to filter the height and weight of students, which are stored in a dictionary using lambda.\n",
        "\n",
        "\n",
        "Original Dictionary:\n",
        "\n",
        "\n",
        "{'Cierra Vega': (6.2, 71), 'Alden Cantrell': (5.9, 65), 'Kierra Gentry': (6.0, 68), 'Pierre Cox': (5.8, 66)}\n",
        "\n",
        "Height> 6ft and Weight> 70kg:\n",
        "\n",
        "\n",
        "{'Cierra Vega': (6.2, 71)}\n"
      ],
      "metadata": {
        "id": "dHtvwPumyvg6"
      }
    },
    {
      "cell_type": "code",
      "source": [
        "students = {'Cierra Vega': (6.2, 71), 'Alden Cantrell': (5.9, 65), 'Kierra Gentry': (6.0, 68), 'Pierre Cox': (5.8, 66)}\n",
        "filtered_students = dict(filter(lambda item : item[1][0]>6.0 and item[1][1]>70, students.items()))\n",
        "print(filtered_students)"
      ],
      "metadata": {
        "colab": {
          "base_uri": "https://localhost:8080/"
        },
        "id": "lA6KkqMRzE8i",
        "outputId": "f46afa60-67a9-4a56-d749-1b6a02820bc4"
      },
      "execution_count": null,
      "outputs": [
        {
          "output_type": "stream",
          "name": "stdout",
          "text": [
            "{'Cierra Vega': (6.2, 71)}\n"
          ]
        }
      ]
    },
    {
      "cell_type": "markdown",
      "source": [
        "### **Exercise 11 Filter:**\n",
        "Write a Python program to remove all elements from a given list present in another list using lambda.\n",
        "\n",
        "Original lists:\n",
        "\n",
        "list1: [1, 2, 3, 4, 5, 6, 7, 8, 9, 10]\n",
        "list2: [2, 4, 6, 8]\n",
        "\n",
        "Remove all elements from 'list1' present in 'list2:\n",
        "\n",
        "[1, 3, 5, 7, 9, 10]\n"
      ],
      "metadata": {
        "id": "PSYt2mYvzYGl"
      }
    },
    {
      "cell_type": "code",
      "source": [
        "ist1= [1, 2, 3, 4, 5, 6, 7, 8, 9, 10]\n",
        "\n",
        "list2= [2, 4, 6, 8]\n",
        "\n",
        "sorted_filter = list(filter(lambda x : x not in list2, list1))\n",
        "\n",
        "print(sorted_filter)"
      ],
      "metadata": {
        "colab": {
          "base_uri": "https://localhost:8080/"
        },
        "id": "b6u1Fw6Qzlj-",
        "outputId": "2b64e082-2b91-4b01-d621-53976f085dce"
      },
      "execution_count": null,
      "outputs": [
        {
          "output_type": "stream",
          "name": "stdout",
          "text": [
            "[1, 3, 5]\n"
          ]
        }
      ]
    },
    {
      "cell_type": "markdown",
      "source": [
        "### **Exercise 12 Reduce:**\n",
        "\n",
        "Write a Python program to calculate the product of a given list of numbers using lambda.\n",
        "\n",
        "list1: [1, 2, 3, 4, 5, 6, 7, 8, 9, 10]\n",
        "\n",
        "Product of the said list numbers:\n",
        "\n",
        "3628800\n"
      ],
      "metadata": {
        "id": "YkZYwj5nzyaU"
      }
    },
    {
      "cell_type": "code",
      "source": [
        "import functools\n",
        "list_1 = [1, 2, 3, 4, 5, 6, 7, 8, 9, 10]\n",
        "result = functools.reduce(lambda x,y : x*y,list1)\n",
        "print(result)"
      ],
      "metadata": {
        "colab": {
          "base_uri": "https://localhost:8080/"
        },
        "id": "-AycTpjT0Gxh",
        "outputId": "ff7ca8b4-f2d7-4a44-9f7f-9ee8f965ba12"
      },
      "execution_count": null,
      "outputs": [
        {
          "output_type": "stream",
          "name": "stdout",
          "text": [
            "3628800\n"
          ]
        }
      ]
    },
    {
      "cell_type": "markdown",
      "source": [
        "### **Exercise 13 Reduce:**\n",
        "\n",
        "\n",
        " Write a Python program to multiply all the numbers in a given list using lambda.\n",
        "Original list:\n",
        "\n",
        "[4, 3, 2, 2, -1, 18]\n",
        "\n",
        "Mmultiply all the numbers of the said list: -864\n"
      ],
      "metadata": {
        "id": "Wftad0VE0dFD"
      }
    },
    {
      "cell_type": "code",
      "source": [
        "import functools\n",
        "list_1 = [4, 3, 2, 2, -1, 18]\n",
        "result = functools.reduce(lambda x,y : x*y,list1)\n",
        "print(result)"
      ],
      "metadata": {
        "colab": {
          "base_uri": "https://localhost:8080/"
        },
        "id": "z7ly8fOl0iwK",
        "outputId": "bd2afd69-f8e7-4aa7-8014-f591fe610717"
      },
      "execution_count": null,
      "outputs": [
        {
          "output_type": "stream",
          "name": "stdout",
          "text": [
            "-864\n"
          ]
        }
      ]
    },
    {
      "cell_type": "markdown",
      "source": [
        "###**Exercise 14 Reduce:**\n",
        "\n",
        "\n",
        "Write a Python program to calculate the average value of the numbers in a given tuple of tuples using lambda.\n",
        "\n",
        "Original Tuple:\n",
        "\n",
        "((10, 10, 10), (30, 45, 56), (81, 80, 39), (1, 2, 3))\n",
        "\n",
        "Average value of the numbers of the said tuple of tuples:\n",
        "\n",
        "(30.5, 34.25, 27.0)\n"
      ],
      "metadata": {
        "id": "MwxL82MQ072S"
      }
    },
    {
      "cell_type": "code",
      "source": [
        "original_tuple = ((10, 10, 10), (30, 45, 56), (81, 80, 39), (1, 2, 3))\n",
        "\n",
        "average_tuple = tuple(map(lambda *args : sum(args)/len(args), *original_tuple))\n",
        "\n",
        "print(average_tuple)"
      ],
      "metadata": {
        "colab": {
          "base_uri": "https://localhost:8080/"
        },
        "id": "FPap4MAJ4soj",
        "outputId": "af6685cf-d7c9-4d51-f5ac-623c6d840804"
      },
      "execution_count": null,
      "outputs": [
        {
          "output_type": "stream",
          "name": "stdout",
          "text": [
            "(30.5, 34.25, 27.0)\n"
          ]
        }
      ]
    },
    {
      "cell_type": "markdown",
      "source": [
        "### **Exercise 15:**\n",
        "\n",
        "\n",
        "Write a Python program to sort a given mixed list of integers and strings using lambda. Numbers must be sorted before strings.\n",
        "\n",
        "Original list:\n",
        "\n",
        "[19, 'red', 12, 'green', 'blue', 10, 'white', 'green', 1]\n",
        "\n",
        "Sort the said mixed list of integers and strings:\n",
        "\n",
        "[1, 10, 12, 19, 'blue', 'green', 'green', 'red', 'white']\n"
      ],
      "metadata": {
        "id": "je3cFyTX3JNz"
      }
    },
    {
      "cell_type": "code",
      "source": [
        "original = [19, 'red', 12, 'green', 'blue', 10, 'white', 'green', 1]\n",
        "\n",
        "sorted = sorted(original, key = lambda x: (isinstance(x, int), x))\n",
        "\n",
        "print(sorted)"
      ],
      "metadata": {
        "colab": {
          "base_uri": "https://localhost:8080/"
        },
        "id": "CnZsRV1c3TsK",
        "outputId": "c3e03453-82cd-4733-bcf9-3f51669627a5"
      },
      "execution_count": null,
      "outputs": [
        {
          "output_type": "stream",
          "name": "stdout",
          "text": [
            "['blue', 'green', 'green', 'red', 'white', 1, 10, 12, 19]\n"
          ]
        }
      ]
    },
    {
      "cell_type": "markdown",
      "source": [
        "### **Exercise 16:**\n",
        "Write a Python program to count the occurrences of items in a given list using lambda.\n",
        "Original list:\n",
        "\n",
        "[3, 4, 5, 8, 0, 3, 8, 5, 0, 3, 1, 5, 2, 3, 4, 2]\n",
        "\n",
        "Count the occurrences of the items in the said list:\n",
        "\n",
        "{3: 4, 4: 2, 5: 3, 8: 2, 0: 2, 1: 1, 2: 2}\n"
      ],
      "metadata": {
        "id": "qgX5p4Ch3pyj"
      }
    },
    {
      "cell_type": "code",
      "source": [
        "original = [3, 4, 5, 8, 0, 3, 8, 5, 0, 3, 1, 5, 2, 3, 4, 2]\n",
        "\n",
        "occurrence = dict(map(lambda x : (x, original.count(x)),original))\n",
        "\n",
        "print(occurrence)"
      ],
      "metadata": {
        "colab": {
          "base_uri": "https://localhost:8080/"
        },
        "id": "RcaApBhI307K",
        "outputId": "238129a7-895e-44c2-b270-e20746cf7755"
      },
      "execution_count": null,
      "outputs": [
        {
          "output_type": "stream",
          "name": "stdout",
          "text": [
            "{3: 4, 4: 2, 5: 3, 8: 2, 0: 2, 1: 1, 2: 2}\n"
          ]
        }
      ]
    },
    {
      "cell_type": "markdown",
      "source": [
        "### **Exercise 17:**\n",
        "\n",
        "\n",
        "Write a Python program to remove None values from a given list using the lambda function.\n",
        "Original list:\n",
        "\n",
        "[12, 0, None, 23, None, -55, 234, 89, None, 0, 6, -12]\n",
        "\n",
        "Remove None value from the said list:\n",
        "\n",
        "[12, 0, 23, -55, 234, 89, 0, 6, -12]\n"
      ],
      "metadata": {
        "id": "BKhlpXQ-4HML"
      }
    },
    {
      "cell_type": "code",
      "source": [
        "original = [12, 0, None, 23, None, -55, 234, 89, None, 0, 6, -12]\n",
        "\n",
        "filtered = list(filter((lambda x: x is not None),original))\n",
        "\n",
        "print(filtered)"
      ],
      "metadata": {
        "colab": {
          "base_uri": "https://localhost:8080/"
        },
        "id": "oG7KztBm4MU4",
        "outputId": "54ae4254-d109-4ec4-f079-57584f7d4c07"
      },
      "execution_count": null,
      "outputs": [
        {
          "output_type": "stream",
          "name": "stdout",
          "text": [
            "[12, 0, 23, -55, 234, 89, 0, 6, -12]\n"
          ]
        }
      ]
    }
  ]
}